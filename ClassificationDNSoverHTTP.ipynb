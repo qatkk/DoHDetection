{
  "nbformat": 4,
  "nbformat_minor": 0,
  "metadata": {
    "colab": {
      "provenance": []
    },
    "kernelspec": {
      "name": "python3",
      "display_name": "Python 3"
    },
    "language_info": {
      "name": "python"
    }
  },
  "cells": [
    {
      "cell_type": "code",
      "execution_count": null,
      "metadata": {
        "colab": {
          "base_uri": "https://localhost:8080/"
        },
        "id": "2hCt1EBwyPY-",
        "outputId": "6589dd1b-c33f-4e56-c717-fa5ee25a9d3a"
      },
      "outputs": [
        {
          "output_type": "stream",
          "name": "stdout",
          "text": [
            "Hello Miurelcita\n"
          ]
        }
      ],
      "source": [
        "print(\"Hello Miurelcita\")"
      ]
    },
    {
      "cell_type": "code",
      "source": [
        "from google.colab import drive\n",
        "drive.mount('/content/drive/')"
      ],
      "metadata": {
        "id": "XAjHBgNI3KRp",
        "colab": {
          "base_uri": "https://localhost:8080/"
        },
        "outputId": "eeb67a19-1b63-4819-f5e1-9e6e457a7927"
      },
      "execution_count": 13,
      "outputs": [
        {
          "output_type": "stream",
          "name": "stdout",
          "text": [
            "Mounted at /content/drive/\n"
          ]
        }
      ]
    },
    {
      "cell_type": "code",
      "source": [
        "!pip install pandas scikit-learn"
      ],
      "metadata": {
        "colab": {
          "base_uri": "https://localhost:8080/"
        },
        "id": "dJ3RC2hD3Fs6",
        "outputId": "7d9b3879-3089-43a5-a1e6-5aa3275ca56e"
      },
      "execution_count": null,
      "outputs": [
        {
          "output_type": "stream",
          "name": "stdout",
          "text": [
            "Requirement already satisfied: pandas in /usr/local/lib/python3.10/dist-packages (2.2.2)\n",
            "Requirement already satisfied: scikit-learn in /usr/local/lib/python3.10/dist-packages (1.5.2)\n",
            "Requirement already satisfied: numpy>=1.22.4 in /usr/local/lib/python3.10/dist-packages (from pandas) (1.26.4)\n",
            "Requirement already satisfied: python-dateutil>=2.8.2 in /usr/local/lib/python3.10/dist-packages (from pandas) (2.8.2)\n",
            "Requirement already satisfied: pytz>=2020.1 in /usr/local/lib/python3.10/dist-packages (from pandas) (2024.2)\n",
            "Requirement already satisfied: tzdata>=2022.7 in /usr/local/lib/python3.10/dist-packages (from pandas) (2024.2)\n",
            "Requirement already satisfied: scipy>=1.6.0 in /usr/local/lib/python3.10/dist-packages (from scikit-learn) (1.13.1)\n",
            "Requirement already satisfied: joblib>=1.2.0 in /usr/local/lib/python3.10/dist-packages (from scikit-learn) (1.4.2)\n",
            "Requirement already satisfied: threadpoolctl>=3.1.0 in /usr/local/lib/python3.10/dist-packages (from scikit-learn) (3.5.0)\n",
            "Requirement already satisfied: six>=1.5 in /usr/local/lib/python3.10/dist-packages (from python-dateutil>=2.8.2->pandas) (1.16.0)\n"
          ]
        }
      ]
    },
    {
      "cell_type": "markdown",
      "source": [
        "Descomprimir y revisar datos"
      ],
      "metadata": {
        "id": "2jjRT0eO3OH8"
      }
    },
    {
      "cell_type": "code",
      "source": [
        "import zipfile\n",
        "import os\n",
        "import pandas as pd\n",
        "\n",
        "zip_path = '/content/drive/My Drive/Total_CSVs.zip'\n",
        "csv_path = './l2-malicious.csv'\n",
        "\n",
        "if not os.path.exists(csv_path):\n",
        "\n",
        "    with zipfile.ZipFile(zip_path, 'r') as zip_ref:\n",
        "        zip_ref.extractall('./')\n",
        "    print(\"We\")\n",
        "else:\n",
        "    print(\"Listo\")\n",
        "\n",
        "\n",
        "doh_pd = pd.read_csv(\"l1-doh.csv\")\n",
        "nondoh_pd = pd.read_csv(\"l1-nondoh.csv\")\n",
        "\n",
        "combined_df = pd.concat([doh_pd, nondoh_pd], ignore_index=True)\n",
        "combined_df = combined_df.sample(frac=1, random_state=42).reset_index(drop=True)\n",
        "\n",
        "\n",
        "print(combined_df.head)\n"
      ],
      "metadata": {
        "colab": {
          "base_uri": "https://localhost:8080/"
        },
        "id": "Yg1odVv23K31",
        "outputId": "63ae56b4-e58c-4f63-f05a-7c88b36aa9f6"
      },
      "execution_count": 14,
      "outputs": [
        {
          "output_type": "stream",
          "name": "stdout",
          "text": [
            "We\n",
            "<bound method NDFrame.head of                 SourceIP   DestinationIP  SourcePort  DestinationPort  \\\n",
            "0         192.168.20.111   35.207.24.140       49794              443   \n",
            "1         192.168.20.191    13.225.189.9       63637              443   \n",
            "2         192.168.20.191    17.178.96.59       50192              443   \n",
            "3         192.168.20.191    104.16.87.26       53553              443   \n",
            "4         192.168.20.113  93.184.216.163       58646              443   \n",
            "...                  ...             ...         ...              ...   \n",
            "1167131   192.168.20.144         1.1.1.1       44996              443   \n",
            "1167132   192.168.20.144        9.9.9.11       53654              443   \n",
            "1167133  176.103.130.130  192.168.20.206         443            40528   \n",
            "1167134   192.168.20.191   23.194.121.95       54787              443   \n",
            "1167135          1.1.1.1  192.168.20.210         443            39586   \n",
            "\n",
            "                   TimeStamp    Duration  FlowBytesSent  FlowSentRate  \\\n",
            "0        2019-12-13 18:05:58    0.036485            341   9346.306701   \n",
            "1        2020-01-14 00:58:31    0.017255             55   3187.481889   \n",
            "2        2020-01-13 14:17:59   12.601501           1141     90.544769   \n",
            "3        2020-01-13 12:24:11    0.201478           1856   9211.923883   \n",
            "4        2019-12-19 19:27:15    0.086175           1764  20469.973890   \n",
            "...                      ...         ...            ...           ...   \n",
            "1167131  2020-03-21 19:25:09  107.631811          24467    227.321270   \n",
            "1167132  2020-03-31 07:47:45    1.348774           1017    754.018093   \n",
            "1167133  2020-03-21 16:57:29  120.022102         304065   2533.408388   \n",
            "1167134  2020-01-13 21:56:48    0.022325             55   2463.605823   \n",
            "1167135  2020-03-21 20:51:01  120.766714          45814    379.359498   \n",
            "\n",
            "         FlowBytesReceived  FlowReceivedRate  ...  \\\n",
            "0                      132       3617.925175  ...   \n",
            "1                       66       3824.978267  ...   \n",
            "2                     4192        332.658784  ...   \n",
            "3                    14122      70092.019972  ...   \n",
            "4                     5630      65332.172904  ...   \n",
            "...                    ...               ...  ...   \n",
            "1167131             119057       1106.150671  ...   \n",
            "1167132               3965       2939.706726  ...   \n",
            "1167133              62306        519.121053  ...   \n",
            "1167134                 66       2956.326988  ...   \n",
            "1167135              27778        230.013711  ...   \n",
            "\n",
            "         PacketTimeCoefficientofVariation  ResponseTimeTimeVariance  \\\n",
            "0                                0.943377                  0.000000   \n",
            "1                                1.000000                  0.000000   \n",
            "2                                1.930081                  0.000744   \n",
            "3                                0.786310                  0.000233   \n",
            "4                                0.474294                  0.000035   \n",
            "...                                   ...                       ...   \n",
            "1167131                          0.644881                  0.000223   \n",
            "1167132                          0.806467                  0.000515   \n",
            "1167133                          0.594414                  0.047532   \n",
            "1167134                          1.000000                  0.000000   \n",
            "1167135                          0.623291                  0.228921   \n",
            "\n",
            "         ResponseTimeTimeStandardDeviation  ResponseTimeTimeMean  \\\n",
            "0                                 0.000000              0.034840   \n",
            "1                                 0.000000              0.017255   \n",
            "2                                 0.027284              0.067798   \n",
            "3                                 0.015268              0.014965   \n",
            "4                                 0.005916              0.006310   \n",
            "...                                    ...                   ...   \n",
            "1167131                           0.014944              0.009591   \n",
            "1167132                           0.022689              0.022600   \n",
            "1167133                           0.218019              0.094640   \n",
            "1167134                           0.000000              0.022325   \n",
            "1167135                           0.478457              0.380567   \n",
            "\n",
            "         ResponseTimeTimeMedian  ResponseTimeTimeMode  \\\n",
            "0                      0.034840              0.034840   \n",
            "1                      0.017255              0.017255   \n",
            "2                      0.081381              0.013231   \n",
            "3                      0.015182              0.000032   \n",
            "4                      0.005446              0.000014   \n",
            "...                         ...                   ...   \n",
            "1167131                0.011822              0.000008   \n",
            "1167132                0.012662              0.000040   \n",
            "1167133                0.000593              0.000023   \n",
            "1167134                0.022325              0.022325   \n",
            "1167135                0.000044              0.000002   \n",
            "\n",
            "         ResponseTimeTimeSkewFromMedian  ResponseTimeTimeSkewFromMode  \\\n",
            "0                            -10.000000                    -10.000000   \n",
            "1                            -10.000000                    -10.000000   \n",
            "2                             -1.493536                      1.999958   \n",
            "3                             -0.042711                      0.978023   \n",
            "4                              0.437825                      1.064231   \n",
            "...                                 ...                           ...   \n",
            "1167131                       -0.447926                      0.641285   \n",
            "1167132                        1.314029                      0.994326   \n",
            "1167133                        1.294123                      0.433986   \n",
            "1167134                      -10.000000                    -10.000000   \n",
            "1167135                        2.385946                      0.795402   \n",
            "\n",
            "         ResponseTimeTimeCoefficientofVariation   Label  \n",
            "0                                      0.000000  NonDoH  \n",
            "1                                      0.000000  NonDoH  \n",
            "2                                      0.402431  NonDoH  \n",
            "3                                      1.020284  NonDoH  \n",
            "4                                      0.937561  NonDoH  \n",
            "...                                         ...     ...  \n",
            "1167131                                1.558069     DoH  \n",
            "1167132                                1.003927     DoH  \n",
            "1167133                                2.303660     DoH  \n",
            "1167134                                0.000000  NonDoH  \n",
            "1167135                                1.257219     DoH  \n",
            "\n",
            "[1167136 rows x 35 columns]>\n"
          ]
        }
      ]
    },
    {
      "cell_type": "markdown",
      "source": [
        "Random Forest Clasfication"
      ],
      "metadata": {
        "id": "p4QhA_xR9qJ9"
      }
    },
    {
      "cell_type": "markdown",
      "source": [],
      "metadata": {
        "id": "bJ3BrUFI3LSj"
      }
    },
    {
      "cell_type": "code",
      "source": [
        "from sklearn.ensemble import RandomForestClassifier\n",
        "from sklearn.model_selection import train_test_split\n",
        "from sklearn.metrics import classification_report, accuracy_score\n",
        "import pandas as pd\n",
        "\n",
        "X = combined_df.drop(columns=['Label', 'SourceIP', 'DestinationIP', 'SourcePort', 'DestinationPort','TimeStamp'])\n",
        "y = combined_df['Label']\n",
        "\n",
        "\n",
        "X_train, X_test, y_train, y_test = train_test_split(X, y, test_size=0.3, random_state=42)\n",
        "\n",
        "\n",
        "rf_model = RandomForestClassifier(random_state=42)\n",
        "\n",
        "\n",
        "rf_model.fit(X_train, y_train)\n",
        "\n",
        "\n",
        "y_pred = rf_model.predict(X_test)\n",
        "\n",
        "\n",
        "print(\"Accuracy:\", accuracy_score(y_test, y_pred))\n",
        "print(\"Classification Report:\\n\", classification_report(y_test, y_pred))\n"
      ],
      "metadata": {
        "colab": {
          "base_uri": "https://localhost:8080/"
        },
        "id": "S6MU9Rid9xCD",
        "outputId": "3a2fd61c-2707-4315-eaf5-9582fe1cdb84"
      },
      "execution_count": 15,
      "outputs": [
        {
          "output_type": "stream",
          "name": "stdout",
          "text": [
            "Accuracy: 0.9977866059673103\n",
            "Classification Report:\n",
            "               precision    recall  f1-score   support\n",
            "\n",
            "         DoH       1.00      0.99      1.00     80833\n",
            "      NonDoH       1.00      1.00      1.00    269308\n",
            "\n",
            "    accuracy                           1.00    350141\n",
            "   macro avg       1.00      1.00      1.00    350141\n",
            "weighted avg       1.00      1.00      1.00    350141\n",
            "\n"
          ]
        }
      ]
    }
  ]
}